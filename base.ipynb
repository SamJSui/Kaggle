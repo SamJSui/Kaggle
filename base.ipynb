{
 "cells": [
  {
   "cell_type": "code",
   "execution_count": null,
   "metadata": {},
   "outputs": [],
   "source": [
    "# PROCESSING\n",
    "import numpy as np\n",
    "import pandas as pd\n",
    "\n",
    "# VISUALIZATION\n",
    "import matplotlib.pyplot as plt\n",
    "import seaborn as sns\n",
    "\n",
    "# DATA\n",
    "import os\n",
    "\n",
    "# MODELING\n",
    "\n",
    "# SETTINGS\n",
    "pd.set_option(\"display.max_columns\", 20)\n",
    "\n",
    "# DIRECTORIES\n",
    "DATA_DIR = os.path.join(os.path.abspath(os.curdir), 'data')"
   ]
  }
 ],
 "metadata": {
  "kernelspec": {
   "display_name": "Python 3",
   "language": "python",
   "name": "python3"
  },
  "language_info": {
   "name": "python",
   "version": "3.10.9"
  },
  "orig_nbformat": 4,
  "vscode": {
   "interpreter": {
    "hash": "3e6eaf00392b0cb8b5a646d3515e821c15d6342d64f11192f7e7dc8c1b273a06"
   }
  }
 },
 "nbformat": 4,
 "nbformat_minor": 2
}
